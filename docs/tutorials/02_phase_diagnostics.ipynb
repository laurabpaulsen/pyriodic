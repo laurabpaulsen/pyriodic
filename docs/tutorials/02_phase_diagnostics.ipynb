{
 "cells": [
  {
   "cell_type": "markdown",
   "id": "8d08f095",
   "metadata": {},
   "source": [
    "# Comparisions of methods for phase extraction from time series data"
   ]
  },
  {
   "cell_type": "code",
   "execution_count": null,
   "id": "50e1dca3",
   "metadata": {},
   "outputs": [],
   "source": [
    "from pyriodic import Circular\n",
    "from pyriodic.viz import plot_phase_diagnostics"
   ]
  },
  {
   "cell_type": "code",
   "execution_count": null,
   "id": "10bdb4fb",
   "metadata": {},
   "outputs": [],
   "source": [
    "2+2"
   ]
  }
 ],
 "metadata": {
  "language_info": {
   "name": "python"
  }
 },
 "nbformat": 4,
 "nbformat_minor": 5
}
