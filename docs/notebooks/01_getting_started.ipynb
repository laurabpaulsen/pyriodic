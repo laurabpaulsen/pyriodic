{
 "cells": [
  {
   "cell_type": "markdown",
   "id": "3cfd66b8",
   "metadata": {},
   "source": [
    "# testing"
   ]
  }
 ],
 "metadata": {
  "language_info": {
   "name": "python"
  }
 },
 "nbformat": 4,
 "nbformat_minor": 5
}
