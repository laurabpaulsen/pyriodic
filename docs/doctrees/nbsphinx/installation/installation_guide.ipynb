{
 "cells": [
  {
   "cell_type": "markdown",
   "id": "7ef9fdbb",
   "metadata": {},
   "source": [
    "# How to use Pyriodic\n",
    "Pyriodic can be installed via pip: NOT YET THIS IS JUST A TEST\n",
    "\n",
    "```bash\n",
    "pip install pyriodic\n",
    "```"
   ]
  }
 ],
 "metadata": {
  "language_info": {
   "name": "python"
  }
 },
 "nbformat": 4,
 "nbformat_minor": 5
}
