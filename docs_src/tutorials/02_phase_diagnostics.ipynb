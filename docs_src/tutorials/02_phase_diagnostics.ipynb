{
 "cells": [
  {
   "cell_type": "markdown",
   "id": "8d08f095",
   "metadata": {},
   "source": [
    "# Comparisions of methods for phase extraction from time series data"
   ]
  },
  {
   "cell_type": "code",
   "execution_count": 1,
   "id": "50e1dca3",
   "metadata": {
    "execution": {
     "iopub.execute_input": "2025-07-04T07:40:56.812576Z",
     "iopub.status.busy": "2025-07-04T07:40:56.812483Z",
     "iopub.status.idle": "2025-07-04T07:40:57.179173Z",
     "shell.execute_reply": "2025-07-04T07:40:57.178885Z"
    }
   },
   "outputs": [],
   "source": [
    "import pickle as pkl\n",
    "from pyriodic import Circular\n",
    "from pyriodic.viz import plot_phase_diagnostics"
   ]
  },
  {
   "cell_type": "code",
   "execution_count": null,
   "id": "0909e009",
   "metadata": {},
   "outputs": [],
   "source": []
  }
 ],
 "metadata": {
  "kernelspec": {
   "display_name": "mne",
   "language": "python",
   "name": "python3"
  },
  "language_info": {
   "codemirror_mode": {
    "name": "ipython",
    "version": 3
   },
   "file_extension": ".py",
   "mimetype": "text/x-python",
   "name": "python",
   "nbconvert_exporter": "python",
   "pygments_lexer": "ipython3",
   "version": "3.12.2"
  }
 },
 "nbformat": 4,
 "nbformat_minor": 5
}
