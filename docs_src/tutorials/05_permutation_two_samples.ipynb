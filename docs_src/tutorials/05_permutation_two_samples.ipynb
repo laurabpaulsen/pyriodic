{
 "cells": [
  {
   "cell_type": "markdown",
   "id": "8ece4eff",
   "metadata": {},
   "source": [
    "# Two sample permutation test of respiratory phase angles\n",
    "This notebook runs permutation tests to compare two samples of respiratory phase angles. This is useful when you want to compare the phase angles of two different conditions or groups."
   ]
  },
  {
   "cell_type": "code",
   "execution_count": null,
   "id": "28145fb5",
   "metadata": {},
   "outputs": [],
   "source": [
    "import pickle\n",
    "import numpy as np\n",
    "from pathlib import Path\n",
    "import math\n",
    "import matplotlib.pyplot as plt\n",
    "\n",
    "\n",
    "from pyriodic.circular import Circular\n",
    "from pyriodic.viz import CircPlot\n",
    "from pyriodic.permutation import permutation_test_between_samples"
   ]
  },
  {
   "cell_type": "markdown",
   "id": "e25406fa",
   "metadata": {},
   "source": [
    "## Single-level analysis\n"
   ]
  },
  {
   "cell_type": "code",
   "execution_count": null,
   "id": "ae952b07",
   "metadata": {},
   "outputs": [],
   "source": [
    "data_path = Path(\"../../data/respiration/intermediate\")\n",
    "subj_id = \"0019\"\n",
    "file_path = data_path / f\"participant_{subj_id}_preproc.pkl\"\n",
    "\n",
    "with open(file_path, 'rb') as f:\n",
    "            data = pickle.load(f)\n",
    "\n",
    "PA_events = data[\"phase_angle_events\"]\n",
    "PA = data[\"phase_angles\"]\n"
   ]
  },
  {
   "cell_type": "markdown",
   "id": "956e6b47",
   "metadata": {},
   "source": [
    "## Choosing events of interest and plotting the two samples"
   ]
  },
  {
   "cell_type": "code",
   "execution_count": null,
   "id": "35cc8500",
   "metadata": {},
   "outputs": [],
   "source": [
    "irregular_targets = PA_events.to_circular(include=\"target/irregular\")\n",
    "regular_targets = PA_events.to_circular(include=\"target/regular\")\n",
    "\n",
    "fig, axes = plt.subplots(1, 2, dpi = 300, figsize = (10, 6), subplot_kw={\"projection\": \"polar\"}, sharey=True)\n",
    "\n",
    "irregular_plot = CircPlot(\n",
    "    irregular_targets, \n",
    "    title = \"Target following irregular stimuli train\",\n",
    "    group_by_labels=False, \n",
    "    ax=axes[0]\n",
    ")\n",
    "irregular_plot.add_density()\n",
    "irregular_plot.add_histogram(PA)\n",
    "\n",
    "\n",
    "regular_plot = CircPlot(\n",
    "    regular_targets, \n",
    "    title = \"Target following regular stimuli train\",\n",
    "    group_by_labels=False, \n",
    "    ax=axes[1]\n",
    ")\n",
    "regular_plot.add_density()\n",
    "regular_plot.add_histogram(PA)"
   ]
  },
  {
   "cell_type": "code",
   "execution_count": null,
   "id": "6b58d572",
   "metadata": {},
   "outputs": [],
   "source": [
    "# Run permutation test\n",
    "obs_stat, pval = permutation_test_between_samples(\n",
    "    irregular_targets.data,\n",
    "    regular_targets.data,\n",
    "    n_permutations= 10000\n",
    ")"
   ]
  },
  {
   "cell_type": "markdown",
   "id": "ce738a13",
   "metadata": {},
   "source": [
    "## Another example where there is a difference between the two samples"
   ]
  },
  {
   "cell_type": "code",
   "execution_count": null,
   "id": "ab42a63c",
   "metadata": {},
   "outputs": [],
   "source": [
    "\n",
    "fourth_salient = PA_events.to_circular(include=\"salient/fourth\")\n",
    "fifth_salient = PA_events.to_circular(include=\"salient/fifth\")\n",
    "\n",
    "\n",
    "fig, axes = plt.subplots(1, 2, dpi = 300, figsize = (10, 6), subplot_kw={\"projection\": \"polar\"}, sharey=True, sharex=True)\n",
    "\n",
    "fourth_plot = CircPlot(\n",
    "    fourth_salient, \n",
    "    title=\"fourth\",\n",
    "    group_by_labels=False, \n",
    "    ax=axes[0]\n",
    ")\n",
    "fourth_plot.add_density()\n",
    "fourth_plot.add_histogram(PA)\n",
    "\n",
    "\n",
    "\n",
    "fifth_plot = CircPlot(\n",
    "    fifth_salient, \n",
    "    title=\"Fifth\",\n",
    "    group_by_labels=False, \n",
    "    ax=axes[1]\n",
    ")\n",
    "fifth_plot.add_density()\n",
    "fifth_plot.add_histogram(PA)\n",
    "\n",
    "plt.tight_layout()\n",
    "\n",
    "# Run permutation test\n",
    "obs_stat, pval = permutation_test_between_samples(\n",
    "    fourth_salient.data,\n",
    "    fifth_salient.data,\n",
    "    n_permutations= 10000,\n",
    ")"
   ]
  }
 ],
 "metadata": {
  "kernelspec": {
   "display_name": "venv",
   "language": "python",
   "name": "venv"
  },
  "language_info": {
   "name": "python",
   "version": "3.12.9"
  }
 },
 "nbformat": 4,
 "nbformat_minor": 5
}
