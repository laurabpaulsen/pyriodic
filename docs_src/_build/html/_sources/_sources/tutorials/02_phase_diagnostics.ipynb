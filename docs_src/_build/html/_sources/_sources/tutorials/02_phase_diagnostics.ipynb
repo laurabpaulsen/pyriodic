{
 "cells": [
  {
   "cell_type": "markdown",
   "id": "8d08f095",
   "metadata": {},
   "source": [
    "# Comparisions of methods for phase extraction from time series data"
   ]
  },
  {
   "cell_type": "code",
   "execution_count": null,
   "id": "50e1dca3",
   "metadata": {},
   "outputs": [],
   "source": [
    "import pickle as pkl\n",
    "from pyriodic import Circular\n",
    "from pyriodic.viz import plot_phase_diagnostics"
   ]
  },
  {
   "cell_type": "code",
   "execution_count": null,
   "id": "0909e009",
   "metadata": {},
   "outputs": [],
   "source": []
  }
 ],
 "metadata": {
  "kernelspec": {
   "display_name": "mne",
   "language": "python",
   "name": "python3"
  },
  "language_info": {
   "name": "python",
   "version": "3.12.9"
  }
 },
 "nbformat": 4,
 "nbformat_minor": 5
}
